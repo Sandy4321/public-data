{
  "nbformat": 4,
  "nbformat_minor": 0,
  "metadata": {
    "colab": {
      "name": "085 - Rentometer.ipynb",
      "provenance": [],
      "authorship_tag": "ABX9TyPaCrpAG8z03/kCmZYAbqKP",
      "include_colab_link": true
    },
    "kernelspec": {
      "name": "python3",
      "display_name": "Python 3"
    },
    "language_info": {
      "name": "python"
    }
  },
  "cells": [
    {
      "cell_type": "markdown",
      "metadata": {
        "id": "view-in-github",
        "colab_type": "text"
      },
      "source": [
        "<a href=\"https://colab.research.google.com/github/analyticsariel/public-data/blob/main/Rentometer_RentEstimates.ipynb\" target=\"_parent\"><img src=\"https://colab.research.google.com/assets/colab-badge.svg\" alt=\"Open In Colab\"/></a>"
      ]
    },
    {
      "cell_type": "markdown",
      "source": [
        "# Rentometer Rental Data\n",
        "\n",
        "## Overview\n",
        "| Detail Tag            | Information                                                                                        |\n",
        "|-----------------------|----------------------------------------------------------------------------------------------------|\n",
        "| Originally Created By | Ariel Herrera arielherrera@analyticsariel.com |\n",
        "| External References   | API |\n",
        "| Input Datasets        | Source name |\n",
        "| Output Datasets       | Source name |\n",
        "| Input Data Source     | Pandas DataFrame |\n",
        "| Output Data Source    | Pandas DataFrame |\n",
        "\n",
        "## History\n",
        "| Date         | Developed By  | Reason                                                |\n",
        "|--------------|---------------|-------------------------------------------------------|\n",
        "| 2nd Jan 2021 | Ariel Herrera | Create notebook. |\n",
        "\n",
        "## Getting Started\n",
        "1. Copy this notebook -> File -> Save a Copy in Drive\n",
        "2. Directions\n",
        "\n",
        "## Useful Resources\n",
        "- [Google Colab Cheat Sheet](https://towardsdatascience.com/cheat-sheet-for-google-colab-63853778c093)\n",
        "- [Rentometer API](https://www.rentometer.com/rentometer-api-release-notes)\n",
        "- [How to convert JSON into a Pandas DataFrame](https://towardsdatascience.com/how-to-convert-json-into-a-pandas-dataframe-100b2ae1e0d8)\n",
        "- [Convert CURL request to Python](https://curlconverter.com/#)"
      ],
      "metadata": {
        "id": "Oi86sXKPxXb-"
      }
    },
    {
      "cell_type": "markdown",
      "source": [
        "## <font color=\"blue\">Install Packages</font>"
      ],
      "metadata": {
        "id": "yYrFdSJ0xwjs"
      }
    },
    {
      "cell_type": "markdown",
      "source": [
        "## <font color=\"blue\">Imports</font>"
      ],
      "metadata": {
        "id": "lzKobHUHx0y_"
      }
    },
    {
      "cell_type": "code",
      "source": [
        "from google.colab import drive, files # google colab specific\n",
        "import requests\n",
        "import pandas as pd\n",
        "import os\n",
        "import warnings"
      ],
      "metadata": {
        "id": "hhsiAMfPv1Mr"
      },
      "execution_count": null,
      "outputs": []
    },
    {
      "cell_type": "markdown",
      "source": [
        "## <font color=\"blue\">Functions</font>"
      ],
      "metadata": {
        "id": "Ux0fRh_Ex5u9"
      }
    },
    {
      "cell_type": "code",
      "source": [
        "def get_rentometer_summary(api_key,\n",
        "                           address=None,\n",
        "                           latitude=None,\n",
        "                           longitude=None,\n",
        "                           bedrooms=None,\n",
        "                           baths=None,\n",
        "                           building_type=None,\n",
        "                           look_back_days=None):\n",
        "  # check if required parameters are present\n",
        "  if (address == None) and (latitude == None or longitude == None):\n",
        "    return \"Please enter <address> or <latitude> AND <longitude> parameters.\"\n",
        "\n",
        "  # variables\n",
        "  base_url = 'https://www.rentometer.com/api/v1/summary'\n",
        "  # get bedrooms\n",
        "  if bedrooms == None:\n",
        "    pass\n",
        "  elif int(bedrooms) > 4:\n",
        "    bedrooms = '4'\n",
        "  else:\n",
        "    bedrooms = str(bedrooms)\n",
        "  # get baths\n",
        "  if baths == None:\n",
        "    pass\n",
        "  elif int(baths) > 1:\n",
        "    baths = '1.5+'\n",
        "  else:\n",
        "    baths = '1'\n",
        "  # get look back days\n",
        "  if look_back_days == None:\n",
        "    pass\n",
        "  elif int(look_back_days) > 1460:\n",
        "    look_back_days = 1460\n",
        "  elif int(look_back_days) < 90:\n",
        "    look_back_days = 90\n",
        "  else:\n",
        "    pass\n",
        "\n",
        "  params = (\n",
        "      ('api_key', api_key),\n",
        "      ('address', address),\n",
        "      ('latitude', latitude),\n",
        "      ('longitude', longitude),\n",
        "      ('bedrooms', bedrooms),\n",
        "      ('baths', baths),\n",
        "      ('building_type', building_type), # valid values: [apartments, house]\n",
        "      ('look_back_days', look_back_days)\n",
        "  )\n",
        "\n",
        "  response = requests.get(base_url, params=params)\n",
        "  return response"
      ],
      "metadata": {
        "id": "mNEvA5JpyL9q"
      },
      "execution_count": null,
      "outputs": []
    },
    {
      "cell_type": "markdown",
      "source": [
        "## <font color=\"blue\">Locals & Constants</font>"
      ],
      "metadata": {
        "id": "1OYOVMh0x9LD"
      }
    },
    {
      "cell_type": "code",
      "source": [
        "drive.mount('/content/drive')"
      ],
      "metadata": {
        "colab": {
          "base_uri": "https://localhost:8080/"
        },
        "id": "v7NWdJYr0Qfs",
        "outputId": "fab99ffa-83fe-454c-a69f-57feffafc2ef"
      },
      "execution_count": null,
      "outputs": [
        {
          "output_type": "stream",
          "name": "stdout",
          "text": [
            "Mounted at /content/drive\n"
          ]
        }
      ]
    },
    {
      "cell_type": "code",
      "source": [
        "# set working directory\n",
        "os.chdir('/content/drive/MyDrive/Colab Data/')\n",
        "dir = os.getcwd()\n",
        "print('Current working directory:', dir)\n",
        "\n",
        "# remove pandas warnings\n",
        "warnings.filterwarnings('ignore')"
      ],
      "metadata": {
        "colab": {
          "base_uri": "https://localhost:8080/"
        },
        "id": "wE81E4FX0Ywb",
        "outputId": "c615b34e-7921-4339-f60f-e5a2e3b2ee36"
      },
      "execution_count": null,
      "outputs": [
        {
          "output_type": "stream",
          "name": "stdout",
          "text": [
            "Current working directory: /content/drive/MyDrive/Colab Data\n"
          ]
        }
      ]
    },
    {
      "cell_type": "markdown",
      "source": [
        "## <font color=\"blue\">Data</font>"
      ],
      "metadata": {
        "id": "FzHV4Gvg0fvP"
      }
    },
    {
      "cell_type": "code",
      "source": [
        "# read in api keys\n",
        "df_api_keys = pd.read_csv(dir + '/input/api_keys.csv')\n",
        "# extract api key\n",
        "rentometer_api_key = df_api_keys.loc[df_api_keys['API'] == 'rentometer']['KEY'].iloc[0]"
      ],
      "metadata": {
        "id": "kkTNebUX0iHj"
      },
      "execution_count": null,
      "outputs": []
    },
    {
      "cell_type": "markdown",
      "source": [
        "## <font color=\"blue\">Transformations</font>"
      ],
      "metadata": {
        "id": "_0AfZUx70ub-"
      }
    },
    {
      "cell_type": "markdown",
      "source": [
        "### <font color=\"Green\">Sample API Request - Single Address</font>"
      ],
      "metadata": {
        "id": "Zb_sDUxs1poB"
      }
    },
    {
      "cell_type": "code",
      "source": [
        "# sample API get request\n",
        "base_url = 'https://www.rentometer.com/api/v1/summary'\n",
        "\n",
        "params = (\n",
        "    ('api_key', rentometer_api_key),\n",
        "    ('address', '15 broad st., boston, ma'),\n",
        "    ('bedrooms', '2'),\n",
        "    ('baths', '1.5+'),\n",
        "    ('building_type', 'house'),\n",
        ")\n",
        "\n",
        "response = requests.get(base_url, params=params)\n",
        "print(response.text)"
      ],
      "metadata": {
        "colab": {
          "base_uri": "https://localhost:8080/"
        },
        "id": "F_3yeUfAujDP",
        "outputId": "6875f96c-1cd8-436f-8cbc-8645ba77694a"
      },
      "execution_count": null,
      "outputs": [
        {
          "output_type": "stream",
          "name": "stdout",
          "text": [
            "{\"address\":\"15 Broad Street, Boston, Massachusetts 02109\",\"latitude\":\"42.358729\",\"longitude\":\"-71.054801\",\"bedrooms\":2,\"baths\":\"1.5+\",\"building_type\":\"House\",\"look_back_days\":365,\"mean\":3444,\"median\":3200,\"min\":2900,\"max\":4700,\"percentile_25\":3034,\"percentile_75\":3855,\"std_dev\":609,\"samples\":7,\"radius_miles\":2.0,\"quickview_url\":\"https://www.rentometer.com/analysis/2-bed/15-broad-street-boston-massachusetts-02109/oAGyreNxafo/quickview\",\"credits_remaining\":490,\"token\":\"oAGyreNxafo\",\"links\":[{\"rel\":\"request pro report\",\"href\":\"/api/v1/request_pro_report?api_key=831TfCG3Hp2S58F3Rq2d9w&token=oAGyreNxafo\"}]}\n"
          ]
        }
      ]
    },
    {
      "cell_type": "code",
      "source": [
        "# transform to json response\n",
        "response_json = response.json()\n",
        "response_json"
      ],
      "metadata": {
        "colab": {
          "base_uri": "https://localhost:8080/"
        },
        "id": "DMZWGXymvEeF",
        "outputId": "eb3560c3-45a6-4e4d-bdd5-570467c62b8c"
      },
      "execution_count": null,
      "outputs": [
        {
          "output_type": "execute_result",
          "data": {
            "text/plain": [
              "{'address': '15 Broad Street, Boston, Massachusetts 02109',\n",
              " 'baths': '1.5+',\n",
              " 'bedrooms': 2,\n",
              " 'building_type': 'House',\n",
              " 'credits_remaining': 490,\n",
              " 'latitude': '42.358729',\n",
              " 'links': [{'href': '/api/v1/request_pro_report?api_key=831TfCG3Hp2S58F3Rq2d9w&token=oAGyreNxafo',\n",
              "   'rel': 'request pro report'}],\n",
              " 'longitude': '-71.054801',\n",
              " 'look_back_days': 365,\n",
              " 'max': 4700,\n",
              " 'mean': 3444,\n",
              " 'median': 3200,\n",
              " 'min': 2900,\n",
              " 'percentile_25': 3034,\n",
              " 'percentile_75': 3855,\n",
              " 'quickview_url': 'https://www.rentometer.com/analysis/2-bed/15-broad-street-boston-massachusetts-02109/oAGyreNxafo/quickview',\n",
              " 'radius_miles': 2.0,\n",
              " 'samples': 7,\n",
              " 'std_dev': 609,\n",
              " 'token': 'oAGyreNxafo'}"
            ]
          },
          "metadata": {},
          "execution_count": 7
        }
      ]
    },
    {
      "cell_type": "code",
      "source": [
        "# normalize into a tabular format\n",
        "df = pd.json_normalize(\n",
        "    data=response_json\n",
        "    )\n",
        "df.head()"
      ],
      "metadata": {
        "colab": {
          "base_uri": "https://localhost:8080/",
          "height": 232
        },
        "id": "ClBzYnP2vsC-",
        "outputId": "291152e3-e20b-4501-b3d6-c0dee53c5b8b"
      },
      "execution_count": null,
      "outputs": [
        {
          "output_type": "execute_result",
          "data": {
            "text/html": [
              "\n",
              "  <div id=\"df-072b173e-95af-4e13-badd-c6a40713bacd\">\n",
              "    <div class=\"colab-df-container\">\n",
              "      <div>\n",
              "<style scoped>\n",
              "    .dataframe tbody tr th:only-of-type {\n",
              "        vertical-align: middle;\n",
              "    }\n",
              "\n",
              "    .dataframe tbody tr th {\n",
              "        vertical-align: top;\n",
              "    }\n",
              "\n",
              "    .dataframe thead th {\n",
              "        text-align: right;\n",
              "    }\n",
              "</style>\n",
              "<table border=\"1\" class=\"dataframe\">\n",
              "  <thead>\n",
              "    <tr style=\"text-align: right;\">\n",
              "      <th></th>\n",
              "      <th>address</th>\n",
              "      <th>latitude</th>\n",
              "      <th>longitude</th>\n",
              "      <th>bedrooms</th>\n",
              "      <th>baths</th>\n",
              "      <th>building_type</th>\n",
              "      <th>look_back_days</th>\n",
              "      <th>mean</th>\n",
              "      <th>median</th>\n",
              "      <th>min</th>\n",
              "      <th>max</th>\n",
              "      <th>percentile_25</th>\n",
              "      <th>percentile_75</th>\n",
              "      <th>std_dev</th>\n",
              "      <th>samples</th>\n",
              "      <th>radius_miles</th>\n",
              "      <th>quickview_url</th>\n",
              "      <th>credits_remaining</th>\n",
              "      <th>token</th>\n",
              "      <th>links</th>\n",
              "    </tr>\n",
              "  </thead>\n",
              "  <tbody>\n",
              "    <tr>\n",
              "      <th>0</th>\n",
              "      <td>15 Broad Street, Boston, Massachusetts 02109</td>\n",
              "      <td>42.358729</td>\n",
              "      <td>-71.054801</td>\n",
              "      <td>2</td>\n",
              "      <td>1.5+</td>\n",
              "      <td>House</td>\n",
              "      <td>365</td>\n",
              "      <td>3444</td>\n",
              "      <td>3200</td>\n",
              "      <td>2900</td>\n",
              "      <td>4700</td>\n",
              "      <td>3034</td>\n",
              "      <td>3855</td>\n",
              "      <td>609</td>\n",
              "      <td>7</td>\n",
              "      <td>2.0</td>\n",
              "      <td>https://www.rentometer.com/analysis/2-bed/15-b...</td>\n",
              "      <td>490</td>\n",
              "      <td>oAGyreNxafo</td>\n",
              "      <td>[{'rel': 'request pro report', 'href': '/api/v...</td>\n",
              "    </tr>\n",
              "  </tbody>\n",
              "</table>\n",
              "</div>\n",
              "      <button class=\"colab-df-convert\" onclick=\"convertToInteractive('df-072b173e-95af-4e13-badd-c6a40713bacd')\"\n",
              "              title=\"Convert this dataframe to an interactive table.\"\n",
              "              style=\"display:none;\">\n",
              "        \n",
              "  <svg xmlns=\"http://www.w3.org/2000/svg\" height=\"24px\"viewBox=\"0 0 24 24\"\n",
              "       width=\"24px\">\n",
              "    <path d=\"M0 0h24v24H0V0z\" fill=\"none\"/>\n",
              "    <path d=\"M18.56 5.44l.94 2.06.94-2.06 2.06-.94-2.06-.94-.94-2.06-.94 2.06-2.06.94zm-11 1L8.5 8.5l.94-2.06 2.06-.94-2.06-.94L8.5 2.5l-.94 2.06-2.06.94zm10 10l.94 2.06.94-2.06 2.06-.94-2.06-.94-.94-2.06-.94 2.06-2.06.94z\"/><path d=\"M17.41 7.96l-1.37-1.37c-.4-.4-.92-.59-1.43-.59-.52 0-1.04.2-1.43.59L10.3 9.45l-7.72 7.72c-.78.78-.78 2.05 0 2.83L4 21.41c.39.39.9.59 1.41.59.51 0 1.02-.2 1.41-.59l7.78-7.78 2.81-2.81c.8-.78.8-2.07 0-2.86zM5.41 20L4 18.59l7.72-7.72 1.47 1.35L5.41 20z\"/>\n",
              "  </svg>\n",
              "      </button>\n",
              "      \n",
              "  <style>\n",
              "    .colab-df-container {\n",
              "      display:flex;\n",
              "      flex-wrap:wrap;\n",
              "      gap: 12px;\n",
              "    }\n",
              "\n",
              "    .colab-df-convert {\n",
              "      background-color: #E8F0FE;\n",
              "      border: none;\n",
              "      border-radius: 50%;\n",
              "      cursor: pointer;\n",
              "      display: none;\n",
              "      fill: #1967D2;\n",
              "      height: 32px;\n",
              "      padding: 0 0 0 0;\n",
              "      width: 32px;\n",
              "    }\n",
              "\n",
              "    .colab-df-convert:hover {\n",
              "      background-color: #E2EBFA;\n",
              "      box-shadow: 0px 1px 2px rgba(60, 64, 67, 0.3), 0px 1px 3px 1px rgba(60, 64, 67, 0.15);\n",
              "      fill: #174EA6;\n",
              "    }\n",
              "\n",
              "    [theme=dark] .colab-df-convert {\n",
              "      background-color: #3B4455;\n",
              "      fill: #D2E3FC;\n",
              "    }\n",
              "\n",
              "    [theme=dark] .colab-df-convert:hover {\n",
              "      background-color: #434B5C;\n",
              "      box-shadow: 0px 1px 3px 1px rgba(0, 0, 0, 0.15);\n",
              "      filter: drop-shadow(0px 1px 2px rgba(0, 0, 0, 0.3));\n",
              "      fill: #FFFFFF;\n",
              "    }\n",
              "  </style>\n",
              "\n",
              "      <script>\n",
              "        const buttonEl =\n",
              "          document.querySelector('#df-072b173e-95af-4e13-badd-c6a40713bacd button.colab-df-convert');\n",
              "        buttonEl.style.display =\n",
              "          google.colab.kernel.accessAllowed ? 'block' : 'none';\n",
              "\n",
              "        async function convertToInteractive(key) {\n",
              "          const element = document.querySelector('#df-072b173e-95af-4e13-badd-c6a40713bacd');\n",
              "          const dataTable =\n",
              "            await google.colab.kernel.invokeFunction('convertToInteractive',\n",
              "                                                     [key], {});\n",
              "          if (!dataTable) return;\n",
              "\n",
              "          const docLinkHtml = 'Like what you see? Visit the ' +\n",
              "            '<a target=\"_blank\" href=https://colab.research.google.com/notebooks/data_table.ipynb>data table notebook</a>'\n",
              "            + ' to learn more about interactive tables.';\n",
              "          element.innerHTML = '';\n",
              "          dataTable['output_type'] = 'display_data';\n",
              "          await google.colab.output.renderOutput(dataTable, element);\n",
              "          const docLink = document.createElement('div');\n",
              "          docLink.innerHTML = docLinkHtml;\n",
              "          element.appendChild(docLink);\n",
              "        }\n",
              "      </script>\n",
              "    </div>\n",
              "  </div>\n",
              "  "
            ],
            "text/plain": [
              "                                        address  ...                                              links\n",
              "0  15 Broad Street, Boston, Massachusetts 02109  ...  [{'rel': 'request pro report', 'href': '/api/v...\n",
              "\n",
              "[1 rows x 20 columns]"
            ]
          },
          "metadata": {},
          "execution_count": 8
        }
      ]
    },
    {
      "cell_type": "code",
      "source": [
        "# download\n",
        "df.to_csv('rentometer_rents_single_address.csv', index=False)\n",
        "files.download('rentometer_rents_single_address.csv')"
      ],
      "metadata": {
        "colab": {
          "base_uri": "https://localhost:8080/",
          "height": 17
        },
        "id": "P3jCco587Tk2",
        "outputId": "4a1936b4-bede-466b-bacb-7ad784cbac34"
      },
      "execution_count": null,
      "outputs": [
        {
          "output_type": "display_data",
          "data": {
            "application/javascript": [
              "\n",
              "    async function download(id, filename, size) {\n",
              "      if (!google.colab.kernel.accessAllowed) {\n",
              "        return;\n",
              "      }\n",
              "      const div = document.createElement('div');\n",
              "      const label = document.createElement('label');\n",
              "      label.textContent = `Downloading \"${filename}\": `;\n",
              "      div.appendChild(label);\n",
              "      const progress = document.createElement('progress');\n",
              "      progress.max = size;\n",
              "      div.appendChild(progress);\n",
              "      document.body.appendChild(div);\n",
              "\n",
              "      const buffers = [];\n",
              "      let downloaded = 0;\n",
              "\n",
              "      const channel = await google.colab.kernel.comms.open(id);\n",
              "      // Send a message to notify the kernel that we're ready.\n",
              "      channel.send({})\n",
              "\n",
              "      for await (const message of channel.messages) {\n",
              "        // Send a message to notify the kernel that we're ready.\n",
              "        channel.send({})\n",
              "        if (message.buffers) {\n",
              "          for (const buffer of message.buffers) {\n",
              "            buffers.push(buffer);\n",
              "            downloaded += buffer.byteLength;\n",
              "            progress.value = downloaded;\n",
              "          }\n",
              "        }\n",
              "      }\n",
              "      const blob = new Blob(buffers, {type: 'application/binary'});\n",
              "      const a = document.createElement('a');\n",
              "      a.href = window.URL.createObjectURL(blob);\n",
              "      a.download = filename;\n",
              "      div.appendChild(a);\n",
              "      a.click();\n",
              "      div.remove();\n",
              "    }\n",
              "  "
            ],
            "text/plain": [
              "<IPython.core.display.Javascript object>"
            ]
          },
          "metadata": {}
        },
        {
          "output_type": "display_data",
          "data": {
            "application/javascript": [
              "download(\"download_3e5f4287-5602-4c57-bed0-ec611e98d38c\", \"rentometer_rents_single_address.csv\", 561)"
            ],
            "text/plain": [
              "<IPython.core.display.Javascript object>"
            ]
          },
          "metadata": {}
        }
      ]
    },
    {
      "cell_type": "markdown",
      "source": [
        "### <font color=\"Green\">Function API Request - Multiple Addresses</font>"
      ],
      "metadata": {
        "id": "wwBw9rcM1_Y5"
      }
    },
    {
      "cell_type": "code",
      "source": [
        "# create a dataframe\n",
        "d = {'address': ['1921 E Hanna Ave, Tampa, FL 33610', '2516 Mabry St, Tampa, FL 33618'], \n",
        "     'bedrooms': [3, 4],\n",
        "     'bathrooms': [2, 2.5]}\n",
        "df_addresses = pd.DataFrame(data=d)\n",
        "df_addresses"
      ],
      "metadata": {
        "colab": {
          "base_uri": "https://localhost:8080/",
          "height": 112
        },
        "id": "bIWgpH9y2Ngc",
        "outputId": "552a1f8a-4ecc-4712-fb34-828a6a8882b8"
      },
      "execution_count": null,
      "outputs": [
        {
          "output_type": "execute_result",
          "data": {
            "text/html": [
              "\n",
              "  <div id=\"df-b281597c-e6dd-44b4-b01f-dce3731595db\">\n",
              "    <div class=\"colab-df-container\">\n",
              "      <div>\n",
              "<style scoped>\n",
              "    .dataframe tbody tr th:only-of-type {\n",
              "        vertical-align: middle;\n",
              "    }\n",
              "\n",
              "    .dataframe tbody tr th {\n",
              "        vertical-align: top;\n",
              "    }\n",
              "\n",
              "    .dataframe thead th {\n",
              "        text-align: right;\n",
              "    }\n",
              "</style>\n",
              "<table border=\"1\" class=\"dataframe\">\n",
              "  <thead>\n",
              "    <tr style=\"text-align: right;\">\n",
              "      <th></th>\n",
              "      <th>address</th>\n",
              "      <th>bedrooms</th>\n",
              "      <th>bathrooms</th>\n",
              "    </tr>\n",
              "  </thead>\n",
              "  <tbody>\n",
              "    <tr>\n",
              "      <th>0</th>\n",
              "      <td>1921 E Hanna Ave, Tampa, FL 33610</td>\n",
              "      <td>3</td>\n",
              "      <td>2.0</td>\n",
              "    </tr>\n",
              "    <tr>\n",
              "      <th>1</th>\n",
              "      <td>2516 Mabry St, Tampa, FL 33618</td>\n",
              "      <td>4</td>\n",
              "      <td>2.5</td>\n",
              "    </tr>\n",
              "  </tbody>\n",
              "</table>\n",
              "</div>\n",
              "      <button class=\"colab-df-convert\" onclick=\"convertToInteractive('df-b281597c-e6dd-44b4-b01f-dce3731595db')\"\n",
              "              title=\"Convert this dataframe to an interactive table.\"\n",
              "              style=\"display:none;\">\n",
              "        \n",
              "  <svg xmlns=\"http://www.w3.org/2000/svg\" height=\"24px\"viewBox=\"0 0 24 24\"\n",
              "       width=\"24px\">\n",
              "    <path d=\"M0 0h24v24H0V0z\" fill=\"none\"/>\n",
              "    <path d=\"M18.56 5.44l.94 2.06.94-2.06 2.06-.94-2.06-.94-.94-2.06-.94 2.06-2.06.94zm-11 1L8.5 8.5l.94-2.06 2.06-.94-2.06-.94L8.5 2.5l-.94 2.06-2.06.94zm10 10l.94 2.06.94-2.06 2.06-.94-2.06-.94-.94-2.06-.94 2.06-2.06.94z\"/><path d=\"M17.41 7.96l-1.37-1.37c-.4-.4-.92-.59-1.43-.59-.52 0-1.04.2-1.43.59L10.3 9.45l-7.72 7.72c-.78.78-.78 2.05 0 2.83L4 21.41c.39.39.9.59 1.41.59.51 0 1.02-.2 1.41-.59l7.78-7.78 2.81-2.81c.8-.78.8-2.07 0-2.86zM5.41 20L4 18.59l7.72-7.72 1.47 1.35L5.41 20z\"/>\n",
              "  </svg>\n",
              "      </button>\n",
              "      \n",
              "  <style>\n",
              "    .colab-df-container {\n",
              "      display:flex;\n",
              "      flex-wrap:wrap;\n",
              "      gap: 12px;\n",
              "    }\n",
              "\n",
              "    .colab-df-convert {\n",
              "      background-color: #E8F0FE;\n",
              "      border: none;\n",
              "      border-radius: 50%;\n",
              "      cursor: pointer;\n",
              "      display: none;\n",
              "      fill: #1967D2;\n",
              "      height: 32px;\n",
              "      padding: 0 0 0 0;\n",
              "      width: 32px;\n",
              "    }\n",
              "\n",
              "    .colab-df-convert:hover {\n",
              "      background-color: #E2EBFA;\n",
              "      box-shadow: 0px 1px 2px rgba(60, 64, 67, 0.3), 0px 1px 3px 1px rgba(60, 64, 67, 0.15);\n",
              "      fill: #174EA6;\n",
              "    }\n",
              "\n",
              "    [theme=dark] .colab-df-convert {\n",
              "      background-color: #3B4455;\n",
              "      fill: #D2E3FC;\n",
              "    }\n",
              "\n",
              "    [theme=dark] .colab-df-convert:hover {\n",
              "      background-color: #434B5C;\n",
              "      box-shadow: 0px 1px 3px 1px rgba(0, 0, 0, 0.15);\n",
              "      filter: drop-shadow(0px 1px 2px rgba(0, 0, 0, 0.3));\n",
              "      fill: #FFFFFF;\n",
              "    }\n",
              "  </style>\n",
              "\n",
              "      <script>\n",
              "        const buttonEl =\n",
              "          document.querySelector('#df-b281597c-e6dd-44b4-b01f-dce3731595db button.colab-df-convert');\n",
              "        buttonEl.style.display =\n",
              "          google.colab.kernel.accessAllowed ? 'block' : 'none';\n",
              "\n",
              "        async function convertToInteractive(key) {\n",
              "          const element = document.querySelector('#df-b281597c-e6dd-44b4-b01f-dce3731595db');\n",
              "          const dataTable =\n",
              "            await google.colab.kernel.invokeFunction('convertToInteractive',\n",
              "                                                     [key], {});\n",
              "          if (!dataTable) return;\n",
              "\n",
              "          const docLinkHtml = 'Like what you see? Visit the ' +\n",
              "            '<a target=\"_blank\" href=https://colab.research.google.com/notebooks/data_table.ipynb>data table notebook</a>'\n",
              "            + ' to learn more about interactive tables.';\n",
              "          element.innerHTML = '';\n",
              "          dataTable['output_type'] = 'display_data';\n",
              "          await google.colab.output.renderOutput(dataTable, element);\n",
              "          const docLink = document.createElement('div');\n",
              "          docLink.innerHTML = docLinkHtml;\n",
              "          element.appendChild(docLink);\n",
              "        }\n",
              "      </script>\n",
              "    </div>\n",
              "  </div>\n",
              "  "
            ],
            "text/plain": [
              "                             address  bedrooms  bathrooms\n",
              "0  1921 E Hanna Ave, Tampa, FL 33610         3        2.0\n",
              "1     2516 Mabry St, Tampa, FL 33618         4        2.5"
            ]
          },
          "metadata": {},
          "execution_count": 10
        }
      ]
    },
    {
      "cell_type": "code",
      "source": [
        "# option 1 - for loop\n",
        "\n",
        "response_list = []\n",
        "# iterate through rows in the dataframe (table)\n",
        "for index, row in df_addresses.iterrows():\n",
        "  # get parameters\n",
        "  address = row['address']\n",
        "  bds = row['bedrooms']\n",
        "  baths = row['bathrooms']\n",
        "  # get api response\n",
        "  print('Getting data for address: {0}'.format(address))\n",
        "  response = get_rentometer_summary(api_key=rentometer_api_key,\n",
        "                           address=address,\n",
        "                           bedrooms=bds,\n",
        "                           baths=baths)\n",
        "  response_list.append(response)"
      ],
      "metadata": {
        "colab": {
          "base_uri": "https://localhost:8080/"
        },
        "id": "-gFXrl5122g7",
        "outputId": "c9dbc0cb-d856-42d3-b80f-792ced7f8c46"
      },
      "execution_count": null,
      "outputs": [
        {
          "output_type": "stream",
          "name": "stdout",
          "text": [
            "Getting data for address: 1921 E Hanna Ave, Tampa, FL 33610\n",
            "Getting data for address: 2516 Mabry St, Tampa, FL 33618\n"
          ]
        }
      ]
    },
    {
      "cell_type": "code",
      "source": [
        "# view a single response\n",
        "response_list[0].text"
      ],
      "metadata": {
        "colab": {
          "base_uri": "https://localhost:8080/",
          "height": 70
        },
        "id": "TiuBawgL3rW0",
        "outputId": "bb4193e7-570c-435c-e7b4-0933ec716d2d"
      },
      "execution_count": null,
      "outputs": [
        {
          "output_type": "execute_result",
          "data": {
            "application/vnd.google.colaboratory.intrinsic+json": {
              "type": "string"
            },
            "text/plain": [
              "'{\"address\":\"1921 East Hanna Avenue, Tampa, Florida 33610\",\"latitude\":\"28.003158\",\"longitude\":\"-82.437086\",\"bedrooms\":3,\"baths\":\"1.5+\",\"building_type\":\"Any\",\"look_back_days\":365,\"mean\":1927,\"median\":1895,\"min\":800,\"max\":2800,\"percentile_25\":1577,\"percentile_75\":2277,\"std_dev\":519,\"samples\":21,\"radius_miles\":1.0,\"quickview_url\":\"https://www.rentometer.com/analysis/3-bed/1921-east-hanna-avenue-tampa-florida-33610/41hPBcAge6c/quickview\",\"credits_remaining\":489,\"token\":\"41hPBcAge6c\",\"links\":[{\"rel\":\"request pro report\",\"href\":\"/api/v1/request_pro_report?api_key=831TfCG3Hp2S58F3Rq2d9w&token=41hPBcAge6c\"}]}'"
            ]
          },
          "metadata": {},
          "execution_count": 12
        }
      ]
    },
    {
      "cell_type": "code",
      "source": [
        "# get response values into lists\n",
        "rent_mean = [resp.json()['mean'] for resp in response_list]\n",
        "rent_median = [resp.json()['median'] for resp in response_list]\n",
        "rent_max = [resp.json()['max'] for resp in response_list]\n",
        "rent_min = [resp.json()['min'] for resp in response_list]"
      ],
      "metadata": {
        "id": "EbdMYz9138s-"
      },
      "execution_count": null,
      "outputs": []
    },
    {
      "cell_type": "code",
      "source": [
        "# add new columns to dataframe\n",
        "df_addresses_rent = df_addresses.copy()\n",
        "df_addresses_rent['rent_mean']= rent_mean\n",
        "df_addresses_rent['rent_median']= rent_median\n",
        "df_addresses_rent['rent_max']= rent_max\n",
        "df_addresses_rent['rent_min']= rent_min\n",
        "df_addresses_rent"
      ],
      "metadata": {
        "colab": {
          "base_uri": "https://localhost:8080/",
          "height": 273
        },
        "id": "TrOArt194WHF",
        "outputId": "05004aec-bbd7-42ff-eabb-3c00d61c91ef"
      },
      "execution_count": null,
      "outputs": [
        {
          "output_type": "execute_result",
          "data": {
            "text/html": [
              "\n",
              "  <div id=\"df-31b25ded-9101-4023-ab14-7282240e87c1\">\n",
              "    <div class=\"colab-df-container\">\n",
              "      <div>\n",
              "<style scoped>\n",
              "    .dataframe tbody tr th:only-of-type {\n",
              "        vertical-align: middle;\n",
              "    }\n",
              "\n",
              "    .dataframe tbody tr th {\n",
              "        vertical-align: top;\n",
              "    }\n",
              "\n",
              "    .dataframe thead th {\n",
              "        text-align: right;\n",
              "    }\n",
              "</style>\n",
              "<table border=\"1\" class=\"dataframe\">\n",
              "  <thead>\n",
              "    <tr style=\"text-align: right;\">\n",
              "      <th></th>\n",
              "      <th>address</th>\n",
              "      <th>bedrooms</th>\n",
              "      <th>bathrooms</th>\n",
              "      <th>rent_mean</th>\n",
              "      <th>rent_median</th>\n",
              "      <th>rent_max</th>\n",
              "      <th>rent_min</th>\n",
              "    </tr>\n",
              "  </thead>\n",
              "  <tbody>\n",
              "    <tr>\n",
              "      <th>0</th>\n",
              "      <td>1921 E Hanna Ave, Tampa, FL 33610</td>\n",
              "      <td>3</td>\n",
              "      <td>2.0</td>\n",
              "      <td>1927</td>\n",
              "      <td>1895</td>\n",
              "      <td>2800</td>\n",
              "      <td>800</td>\n",
              "    </tr>\n",
              "    <tr>\n",
              "      <th>1</th>\n",
              "      <td>2516 Mabry St, Tampa, FL 33618</td>\n",
              "      <td>4</td>\n",
              "      <td>2.5</td>\n",
              "      <td>1706</td>\n",
              "      <td>1575</td>\n",
              "      <td>2700</td>\n",
              "      <td>950</td>\n",
              "    </tr>\n",
              "  </tbody>\n",
              "</table>\n",
              "</div>\n",
              "      <button class=\"colab-df-convert\" onclick=\"convertToInteractive('df-31b25ded-9101-4023-ab14-7282240e87c1')\"\n",
              "              title=\"Convert this dataframe to an interactive table.\"\n",
              "              style=\"display:none;\">\n",
              "        \n",
              "  <svg xmlns=\"http://www.w3.org/2000/svg\" height=\"24px\"viewBox=\"0 0 24 24\"\n",
              "       width=\"24px\">\n",
              "    <path d=\"M0 0h24v24H0V0z\" fill=\"none\"/>\n",
              "    <path d=\"M18.56 5.44l.94 2.06.94-2.06 2.06-.94-2.06-.94-.94-2.06-.94 2.06-2.06.94zm-11 1L8.5 8.5l.94-2.06 2.06-.94-2.06-.94L8.5 2.5l-.94 2.06-2.06.94zm10 10l.94 2.06.94-2.06 2.06-.94-2.06-.94-.94-2.06-.94 2.06-2.06.94z\"/><path d=\"M17.41 7.96l-1.37-1.37c-.4-.4-.92-.59-1.43-.59-.52 0-1.04.2-1.43.59L10.3 9.45l-7.72 7.72c-.78.78-.78 2.05 0 2.83L4 21.41c.39.39.9.59 1.41.59.51 0 1.02-.2 1.41-.59l7.78-7.78 2.81-2.81c.8-.78.8-2.07 0-2.86zM5.41 20L4 18.59l7.72-7.72 1.47 1.35L5.41 20z\"/>\n",
              "  </svg>\n",
              "      </button>\n",
              "      \n",
              "  <style>\n",
              "    .colab-df-container {\n",
              "      display:flex;\n",
              "      flex-wrap:wrap;\n",
              "      gap: 12px;\n",
              "    }\n",
              "\n",
              "    .colab-df-convert {\n",
              "      background-color: #E8F0FE;\n",
              "      border: none;\n",
              "      border-radius: 50%;\n",
              "      cursor: pointer;\n",
              "      display: none;\n",
              "      fill: #1967D2;\n",
              "      height: 32px;\n",
              "      padding: 0 0 0 0;\n",
              "      width: 32px;\n",
              "    }\n",
              "\n",
              "    .colab-df-convert:hover {\n",
              "      background-color: #E2EBFA;\n",
              "      box-shadow: 0px 1px 2px rgba(60, 64, 67, 0.3), 0px 1px 3px 1px rgba(60, 64, 67, 0.15);\n",
              "      fill: #174EA6;\n",
              "    }\n",
              "\n",
              "    [theme=dark] .colab-df-convert {\n",
              "      background-color: #3B4455;\n",
              "      fill: #D2E3FC;\n",
              "    }\n",
              "\n",
              "    [theme=dark] .colab-df-convert:hover {\n",
              "      background-color: #434B5C;\n",
              "      box-shadow: 0px 1px 3px 1px rgba(0, 0, 0, 0.15);\n",
              "      filter: drop-shadow(0px 1px 2px rgba(0, 0, 0, 0.3));\n",
              "      fill: #FFFFFF;\n",
              "    }\n",
              "  </style>\n",
              "\n",
              "      <script>\n",
              "        const buttonEl =\n",
              "          document.querySelector('#df-31b25ded-9101-4023-ab14-7282240e87c1 button.colab-df-convert');\n",
              "        buttonEl.style.display =\n",
              "          google.colab.kernel.accessAllowed ? 'block' : 'none';\n",
              "\n",
              "        async function convertToInteractive(key) {\n",
              "          const element = document.querySelector('#df-31b25ded-9101-4023-ab14-7282240e87c1');\n",
              "          const dataTable =\n",
              "            await google.colab.kernel.invokeFunction('convertToInteractive',\n",
              "                                                     [key], {});\n",
              "          if (!dataTable) return;\n",
              "\n",
              "          const docLinkHtml = 'Like what you see? Visit the ' +\n",
              "            '<a target=\"_blank\" href=https://colab.research.google.com/notebooks/data_table.ipynb>data table notebook</a>'\n",
              "            + ' to learn more about interactive tables.';\n",
              "          element.innerHTML = '';\n",
              "          dataTable['output_type'] = 'display_data';\n",
              "          await google.colab.output.renderOutput(dataTable, element);\n",
              "          const docLink = document.createElement('div');\n",
              "          docLink.innerHTML = docLinkHtml;\n",
              "          element.appendChild(docLink);\n",
              "        }\n",
              "      </script>\n",
              "    </div>\n",
              "  </div>\n",
              "  "
            ],
            "text/plain": [
              "                             address  bedrooms  ...  rent_max  rent_min\n",
              "0  1921 E Hanna Ave, Tampa, FL 33610         3  ...      2800       800\n",
              "1     2516 Mabry St, Tampa, FL 33618         4  ...      2700       950\n",
              "\n",
              "[2 rows x 7 columns]"
            ]
          },
          "metadata": {},
          "execution_count": 14
        }
      ]
    },
    {
      "cell_type": "markdown",
      "source": [
        "## <font color=\"blue\">Output</font>"
      ],
      "metadata": {
        "id": "VApQ4x2A1XF8"
      }
    },
    {
      "cell_type": "code",
      "source": [
        "# download\n",
        "df_addresses_rent.to_csv('rentometer_rents.csv', index=False)\n",
        "files.download('rentometer_rents.csv')"
      ],
      "metadata": {
        "colab": {
          "base_uri": "https://localhost:8080/",
          "height": 17
        },
        "id": "It34J2Ixv7R0",
        "outputId": "06d7f2f9-4047-46a4-fdde-52e135afea23"
      },
      "execution_count": null,
      "outputs": [
        {
          "output_type": "display_data",
          "data": {
            "application/javascript": [
              "\n",
              "    async function download(id, filename, size) {\n",
              "      if (!google.colab.kernel.accessAllowed) {\n",
              "        return;\n",
              "      }\n",
              "      const div = document.createElement('div');\n",
              "      const label = document.createElement('label');\n",
              "      label.textContent = `Downloading \"${filename}\": `;\n",
              "      div.appendChild(label);\n",
              "      const progress = document.createElement('progress');\n",
              "      progress.max = size;\n",
              "      div.appendChild(progress);\n",
              "      document.body.appendChild(div);\n",
              "\n",
              "      const buffers = [];\n",
              "      let downloaded = 0;\n",
              "\n",
              "      const channel = await google.colab.kernel.comms.open(id);\n",
              "      // Send a message to notify the kernel that we're ready.\n",
              "      channel.send({})\n",
              "\n",
              "      for await (const message of channel.messages) {\n",
              "        // Send a message to notify the kernel that we're ready.\n",
              "        channel.send({})\n",
              "        if (message.buffers) {\n",
              "          for (const buffer of message.buffers) {\n",
              "            buffers.push(buffer);\n",
              "            downloaded += buffer.byteLength;\n",
              "            progress.value = downloaded;\n",
              "          }\n",
              "        }\n",
              "      }\n",
              "      const blob = new Blob(buffers, {type: 'application/binary'});\n",
              "      const a = document.createElement('a');\n",
              "      a.href = window.URL.createObjectURL(blob);\n",
              "      a.download = filename;\n",
              "      div.appendChild(a);\n",
              "      a.click();\n",
              "      div.remove();\n",
              "    }\n",
              "  "
            ],
            "text/plain": [
              "<IPython.core.display.Javascript object>"
            ]
          },
          "metadata": {}
        },
        {
          "output_type": "display_data",
          "data": {
            "application/javascript": [
              "download(\"download_7742b16c-6725-4155-b9be-27a00f6c52b4\", \"rentometer_rents.csv\", 186)"
            ],
            "text/plain": [
              "<IPython.core.display.Javascript object>"
            ]
          },
          "metadata": {}
        }
      ]
    },
    {
      "cell_type": "markdown",
      "source": [
        "# End Notebook"
      ],
      "metadata": {
        "id": "b64TKwWM6xzo"
      }
    }
  ]
}